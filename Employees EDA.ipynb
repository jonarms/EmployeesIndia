{
 "cells": [
  {
   "cell_type": "code",
   "execution_count": 1,
   "id": "5428e15f",
   "metadata": {},
   "outputs": [],
   "source": [
    "#Imports\n",
    "import numpy as np \n",
    "import pandas as pd \n",
    "import matplotlib.pyplot as plt \n",
    "import seaborn as sns \n",
    "import statsmodels.api as sm \n",
    "from statsmodels.graphics.api import abline_plot \n",
    "from sklearn.metrics import mean_squared_error, r2_score \n",
    "from sklearn.model_selection import train_test_split \n",
    "from sklearn import linear_model, preprocessing \n",
    "import warnings \n",
    "\n",
    "warnings.simplefilter(action=\"ignore\", category=FutureWarning)\n",
    "warnings.filterwarnings(action=\"ignore\", module=\"scipy\", message=\"^internal gelsd\")"
   ]
  },
  {
   "cell_type": "code",
   "execution_count": 2,
   "id": "7ef22ede",
   "metadata": {},
   "outputs": [
    {
     "name": "stdout",
     "output_type": "stream",
     "text": [
      " Volume in drive C has no label.\n",
      " Volume Serial Number is 9806-1F72\n",
      "\n",
      " Directory of C:\\Users\\Armstrongs\\Desktop\\GitHub\\employees_india\n",
      "\n",
      "11/26/2021  04:27 PM    <DIR>          .\n",
      "11/26/2021  04:27 PM    <DIR>          ..\n",
      "11/26/2021  02:32 PM    <DIR>          .ipynb_checkpoints\n",
      "11/23/2021  02:50 PM           195,247 Employee.csv\n",
      "11/26/2021  04:27 PM           277,933 Employees EDA.ipynb\n",
      "11/23/2021  10:13 PM                 5 IND_adm1.cpg\n",
      "11/23/2021  10:13 PM             3,539 IND_adm1.csv\n",
      "11/23/2021  10:13 PM            28,279 IND_adm1.dbf\n",
      "11/23/2021  10:13 PM               145 IND_adm1.prj\n",
      "11/23/2021  10:13 PM            23,375 IND_adm1.shp.xml\n",
      "11/23/2021  10:13 PM               396 IND_adm1.shx\n",
      "11/23/2021  10:13 PM         8,450,224 IND_adm11.shp\n",
      "11/23/2021  10:13 PM             5,870 IND_adm1-fgdc.xml\n",
      "11/23/2021  10:13 PM            11,935 IND_adm1-iso19110.xml\n",
      "11/23/2021  10:13 PM            21,893 IND_adm1-iso19139.xml\n",
      "11/26/2021  02:36 PM               128 sns_test.csv\n",
      "11/26/2021  02:40 PM            14,432 Untitled.ipynb\n",
      "              14 File(s)      9,033,401 bytes\n",
      "               3 Dir(s)  102,666,743,808 bytes free\n"
     ]
    }
   ],
   "source": [
    "ls"
   ]
  },
  {
   "cell_type": "code",
   "execution_count": 3,
   "id": "98d689ab",
   "metadata": {},
   "outputs": [
    {
     "data": {
      "text/html": [
       "<div>\n",
       "<style scoped>\n",
       "    .dataframe tbody tr th:only-of-type {\n",
       "        vertical-align: middle;\n",
       "    }\n",
       "\n",
       "    .dataframe tbody tr th {\n",
       "        vertical-align: top;\n",
       "    }\n",
       "\n",
       "    .dataframe thead th {\n",
       "        text-align: right;\n",
       "    }\n",
       "</style>\n",
       "<table border=\"1\" class=\"dataframe\">\n",
       "  <thead>\n",
       "    <tr style=\"text-align: right;\">\n",
       "      <th></th>\n",
       "      <th>Education</th>\n",
       "      <th>JoiningYear</th>\n",
       "      <th>City</th>\n",
       "      <th>PaymentTier</th>\n",
       "      <th>Age</th>\n",
       "      <th>Gender</th>\n",
       "      <th>EverBenched</th>\n",
       "      <th>ExperienceInCurrentDomain</th>\n",
       "      <th>LeaveOrNot</th>\n",
       "    </tr>\n",
       "  </thead>\n",
       "  <tbody>\n",
       "    <tr>\n",
       "      <th>0</th>\n",
       "      <td>Bachelors</td>\n",
       "      <td>2017</td>\n",
       "      <td>Bangalore</td>\n",
       "      <td>3</td>\n",
       "      <td>34</td>\n",
       "      <td>Male</td>\n",
       "      <td>No</td>\n",
       "      <td>0</td>\n",
       "      <td>0</td>\n",
       "    </tr>\n",
       "    <tr>\n",
       "      <th>1</th>\n",
       "      <td>Bachelors</td>\n",
       "      <td>2013</td>\n",
       "      <td>Pune</td>\n",
       "      <td>1</td>\n",
       "      <td>28</td>\n",
       "      <td>Female</td>\n",
       "      <td>No</td>\n",
       "      <td>3</td>\n",
       "      <td>1</td>\n",
       "    </tr>\n",
       "    <tr>\n",
       "      <th>2</th>\n",
       "      <td>Bachelors</td>\n",
       "      <td>2014</td>\n",
       "      <td>New Delhi</td>\n",
       "      <td>3</td>\n",
       "      <td>38</td>\n",
       "      <td>Female</td>\n",
       "      <td>No</td>\n",
       "      <td>2</td>\n",
       "      <td>0</td>\n",
       "    </tr>\n",
       "    <tr>\n",
       "      <th>3</th>\n",
       "      <td>Masters</td>\n",
       "      <td>2016</td>\n",
       "      <td>Bangalore</td>\n",
       "      <td>3</td>\n",
       "      <td>27</td>\n",
       "      <td>Male</td>\n",
       "      <td>No</td>\n",
       "      <td>5</td>\n",
       "      <td>1</td>\n",
       "    </tr>\n",
       "    <tr>\n",
       "      <th>4</th>\n",
       "      <td>Masters</td>\n",
       "      <td>2017</td>\n",
       "      <td>Pune</td>\n",
       "      <td>3</td>\n",
       "      <td>24</td>\n",
       "      <td>Male</td>\n",
       "      <td>Yes</td>\n",
       "      <td>2</td>\n",
       "      <td>1</td>\n",
       "    </tr>\n",
       "  </tbody>\n",
       "</table>\n",
       "</div>"
      ],
      "text/plain": [
       "   Education  JoiningYear       City  PaymentTier  Age  Gender EverBenched  \\\n",
       "0  Bachelors         2017  Bangalore            3   34    Male          No   \n",
       "1  Bachelors         2013       Pune            1   28  Female          No   \n",
       "2  Bachelors         2014  New Delhi            3   38  Female          No   \n",
       "3    Masters         2016  Bangalore            3   27    Male          No   \n",
       "4    Masters         2017       Pune            3   24    Male         Yes   \n",
       "\n",
       "   ExperienceInCurrentDomain  LeaveOrNot  \n",
       "0                          0           0  \n",
       "1                          3           1  \n",
       "2                          2           0  \n",
       "3                          5           1  \n",
       "4                          2           1  "
      ]
     },
     "execution_count": 3,
     "metadata": {},
     "output_type": "execute_result"
    }
   ],
   "source": [
    "#importing data\n",
    "df = pd.read_csv('Employee.csv')\n",
    "df.head()"
   ]
  },
  {
   "cell_type": "code",
   "execution_count": 4,
   "id": "ca317c9e",
   "metadata": {},
   "outputs": [
    {
     "data": {
      "text/plain": [
       "(4653, 9)"
      ]
     },
     "execution_count": 4,
     "metadata": {},
     "output_type": "execute_result"
    }
   ],
   "source": [
    "df.shape"
   ]
  },
  {
   "cell_type": "code",
   "execution_count": 5,
   "id": "51adae28",
   "metadata": {},
   "outputs": [
    {
     "name": "stdout",
     "output_type": "stream",
     "text": [
      "<class 'pandas.core.frame.DataFrame'>\n",
      "RangeIndex: 4653 entries, 0 to 4652\n",
      "Data columns (total 9 columns):\n",
      " #   Column                     Non-Null Count  Dtype \n",
      "---  ------                     --------------  ----- \n",
      " 0   Education                  4653 non-null   object\n",
      " 1   JoiningYear                4653 non-null   int64 \n",
      " 2   City                       4653 non-null   object\n",
      " 3   PaymentTier                4653 non-null   int64 \n",
      " 4   Age                        4653 non-null   int64 \n",
      " 5   Gender                     4653 non-null   object\n",
      " 6   EverBenched                4653 non-null   object\n",
      " 7   ExperienceInCurrentDomain  4653 non-null   int64 \n",
      " 8   LeaveOrNot                 4653 non-null   int64 \n",
      "dtypes: int64(5), object(4)\n",
      "memory usage: 327.3+ KB\n"
     ]
    }
   ],
   "source": [
    "df.info()"
   ]
  },
  {
   "cell_type": "code",
   "execution_count": 6,
   "id": "fa73033b",
   "metadata": {},
   "outputs": [
    {
     "data": {
      "text/plain": [
       "Bachelors    3601\n",
       "Masters       873\n",
       "PHD           179\n",
       "Name: Education, dtype: int64"
      ]
     },
     "execution_count": 6,
     "metadata": {},
     "output_type": "execute_result"
    }
   ],
   "source": [
    "df['Education'].value_counts()"
   ]
  },
  {
   "cell_type": "code",
   "execution_count": 7,
   "id": "fba0b231",
   "metadata": {},
   "outputs": [
    {
     "data": {
      "text/plain": [
       "Male      2778\n",
       "Female    1875\n",
       "Name: Gender, dtype: int64"
      ]
     },
     "execution_count": 7,
     "metadata": {},
     "output_type": "execute_result"
    }
   ],
   "source": [
    "#let's see which gender quits more often:\n",
    "#First making sure the labels are clean\n",
    "df.Gender.value_counts()"
   ]
  },
  {
   "cell_type": "code",
   "execution_count": 8,
   "id": "31263ffd",
   "metadata": {},
   "outputs": [
    {
     "name": "stdout",
     "output_type": "stream",
     "text": [
      "male ratio: 0.4475 female ratio: 0.5525\n"
     ]
    }
   ],
   "source": [
    "male = df[df['Gender'] == 'Male']\n",
    "malequit = male['LeaveOrNot'].sum()\n",
    "female = df[df['Gender'] == 'Female']\n",
    "femalequit = female['LeaveOrNot'].sum()\n",
    "totalquit = df['LeaveOrNot'].sum()\n",
    "print(\"male ratio: \" + str(malequit/totalquit) + \" female ratio: \" + str(femalequit/totalquit))\n",
    "#It looks like females quit at a slightly higher rate"
   ]
  },
  {
   "cell_type": "code",
   "execution_count": 9,
   "id": "c05b67c1",
   "metadata": {},
   "outputs": [
    {
     "name": "stdout",
     "output_type": "stream",
     "text": [
      "male ratio: 0.257739380849532 female ratio: 0.47146666666666665\n"
     ]
    }
   ],
   "source": [
    "#Hold on. I think I've done my math incorrectly. The above would only work if there were an equal number of males and females.\n",
    "#Let me examine the actual ratio of males and females that quit in relation to the total of their own gender.\n",
    "#It seems females quit at a MUCH higher rate than males.\n",
    "print(\"male ratio: \" + str(malequit/len(male)) + \" female ratio: \" + str(femalequit/len(female)))"
   ]
  },
  {
   "cell_type": "code",
   "execution_count": 10,
   "id": "ee2dc961",
   "metadata": {},
   "outputs": [
    {
     "data": {
      "text/plain": [
       "0.257739380849532"
      ]
     },
     "execution_count": 10,
     "metadata": {},
     "output_type": "execute_result"
    }
   ],
   "source": [
    "#Could have just used the .mean() function. \n",
    "male['LeaveOrNot'].mean()"
   ]
  },
  {
   "cell_type": "code",
   "execution_count": 11,
   "id": "e8f74874",
   "metadata": {},
   "outputs": [
    {
     "data": {
      "text/plain": [
       "0.30727130570758404"
      ]
     },
     "execution_count": 11,
     "metadata": {},
     "output_type": "execute_result"
    }
   ],
   "source": [
    "nopune = df[df['City'] != \"Pune\"]\n",
    "npfemale = nopune[nopune['Gender'] == 'Female']\n",
    "npfemale['LeaveOrNot'].mean()"
   ]
  },
  {
   "cell_type": "code",
   "execution_count": 12,
   "id": "64a594bf",
   "metadata": {},
   "outputs": [
    {
     "data": {
      "text/plain": [
       "2.5376"
      ]
     },
     "execution_count": 12,
     "metadata": {},
     "output_type": "execute_result"
    }
   ],
   "source": [
    "#Why are females quiting so much? Are they getting paid less? Are they younger? \n",
    "female['PaymentTier'].mean()"
   ]
  },
  {
   "cell_type": "code",
   "execution_count": 13,
   "id": "9e06d697",
   "metadata": {},
   "outputs": [
    {
     "data": {
      "text/plain": [
       "2.806695464362851"
      ]
     },
     "execution_count": 13,
     "metadata": {},
     "output_type": "execute_result"
    }
   ],
   "source": [
    "male['PaymentTier'].mean()"
   ]
  },
  {
   "cell_type": "code",
   "execution_count": 14,
   "id": "64d3aa7c",
   "metadata": {},
   "outputs": [
    {
     "data": {
      "text/plain": [
       "<AxesSubplot:xlabel='Gender', ylabel='PaymentTier'>"
      ]
     },
     "execution_count": 14,
     "metadata": {},
     "output_type": "execute_result"
    },
    {
     "data": {
      "image/png": "[encoded data removed]",
      "text/plain": [
       "<Figure size 432x288 with 1 Axes>"
      ]
     },
     "metadata": {
      "needs_background": "light"
     },
     "output_type": "display_data"
    }
   ],
   "source": [
    "sns.barplot(x='Gender', y = 'PaymentTier', data = df)"
   ]
  },
  {
   "cell_type": "code",
   "execution_count": 15,
   "id": "b40c479c",
   "metadata": {},
   "outputs": [
    {
     "data": {
      "text/plain": [
       "<AxesSubplot:xlabel='City', ylabel='PaymentTier'>"
      ]
     },
     "execution_count": 15,
     "metadata": {},
     "output_type": "execute_result"
    },
    {
     "data": {
      "image/png": "[encoded data removed]",
      "text/plain": [
       "<Figure size 432x288 with 1 Axes>"
      ]
     },
     "metadata": {
      "needs_background": "light"
     },
     "output_type": "display_data"
    }
   ],
   "source": [
    "sns.barplot(x='City', y = 'PaymentTier', data = df)"
   ]
  },
  {
   "cell_type": "code",
   "execution_count": 16,
   "id": "a0c27977",
   "metadata": {},
   "outputs": [
    {
     "data": {
      "text/plain": [
       "<seaborn.axisgrid.FacetGrid at 0x237ad84f550>"
      ]
     },
     "execution_count": 16,
     "metadata": {},
     "output_type": "execute_result"
    },
    {
     "data": {
      "image/png": "[encoded data removed]",
      "text/plain": [
       "<Figure size 432.125x360 with 1 Axes>"
      ]
     },
     "metadata": {
      "needs_background": "light"
     },
     "output_type": "display_data"
    }
   ],
   "source": [
    "sns.displot(data=df, x=\"PaymentTier\", hue=\"Gender\")"
   ]
  },
  {
   "cell_type": "code",
   "execution_count": 17,
   "id": "e0801122",
   "metadata": {},
   "outputs": [
    {
     "data": {
      "text/plain": [
       "29.416"
      ]
     },
     "execution_count": 17,
     "metadata": {},
     "output_type": "execute_result"
    }
   ],
   "source": [
    "female['Age'].mean()"
   ]
  },
  {
   "cell_type": "code",
   "execution_count": 18,
   "id": "0cb2d53e",
   "metadata": {},
   "outputs": [
    {
     "data": {
      "text/plain": [
       "29.377969762419006"
      ]
     },
     "execution_count": 18,
     "metadata": {},
     "output_type": "execute_result"
    }
   ],
   "source": [
    "male['Age'].mean()"
   ]
  },
  {
   "cell_type": "code",
   "execution_count": 19,
   "id": "9c69b55d",
   "metadata": {},
   "outputs": [],
   "source": [
    "def permutation_sample(data1, data2):\n",
    "    \"\"\"Generate a permutation sample from two data sets.\"\"\"\n",
    " \n",
    "    # Concatenate the data sets: data\n",
    "    data = np.concatenate((data1, data2))\n",
    " \n",
    "    # Permute the concatenated array: permuted_data\n",
    "    permuted_data = np.random.permutation(data)\n",
    " \n",
    "    # Split the permuted array into two: perm_sample_1, perm_sample_2\n",
    "    perm_sample_1 = permuted_data[:len(data1)]\n",
    "    perm_sample_2 = permuted_data[len(data1):]\n",
    " \n",
    "    return perm_sample_1, perm_sample_2"
   ]
  },
  {
   "cell_type": "code",
   "execution_count": 20,
   "id": "ad7c550a",
   "metadata": {},
   "outputs": [],
   "source": [
    "#Could it be that males and females quit at a similar rate? \n",
    "def draw_perm_reps(data_1, data_2, func, size=1):\n",
    "    \"\"\"Generate multiple permutation replicates.\"\"\"\n",
    " \n",
    "    # Initialize array of replicates: perm_replicates\n",
    "    perm_replicates = np.empty(size)\n",
    " \n",
    "    for i in range(size):\n",
    "        # Generate permutation sample\n",
    "        perm_sample_1, perm_sample_2 = permutation_sample(data_1, data_2)\n",
    " \n",
    "        # Compute the test statistic\n",
    "        perm_replicates[i] = func(perm_sample_1, perm_sample_2)\n",
    " \n",
    "    return perm_replicates"
   ]
  },
  {
   "cell_type": "code",
   "execution_count": 21,
   "id": "32bd119e",
   "metadata": {},
   "outputs": [
    {
     "name": "stdout",
     "output_type": "stream",
     "text": [
      "p-value = 0.0\n"
     ]
    }
   ],
   "source": [
    "def diff_of_means(data_1, data_2):\n",
    "    \"\"\"Difference in means of two arrays.\"\"\"\n",
    " \n",
    "    # The difference of means of data_1, data_2: diff\n",
    "    diff = np.mean(data_1) - np.mean(data_2)\n",
    " \n",
    "    return diff\n",
    " \n",
    "# Compute difference of mean impact force from experiment: empirical_diff_means\n",
    "empirical_diff_means = diff_of_means(male['LeaveOrNot'], female['LeaveOrNot'])\n",
    " \n",
    "# Draw 10,000 permutation replicates: perm_replicates\n",
    "perm_replicates = draw_perm_reps(male['LeaveOrNot'], female['LeaveOrNot'],\n",
    "                                 diff_of_means, size=10000)\n",
    " \n",
    "# Compute p-value: p\n",
    "p = np.sum(perm_replicates <= empirical_diff_means) / len(perm_replicates)\n",
    " \n",
    "# Print the result\n",
    "print('p-value =', p)\n"
   ]
  },
  {
   "cell_type": "code",
   "execution_count": 22,
   "id": "66c1fb35",
   "metadata": {},
   "outputs": [
    {
     "data": {
      "text/plain": [
       "-0.21372728581713463"
      ]
     },
     "execution_count": 22,
     "metadata": {},
     "output_type": "execute_result"
    }
   ],
   "source": [
    "empirical_diff_means"
   ]
  },
  {
   "cell_type": "code",
   "execution_count": 23,
   "id": "9539a64d",
   "metadata": {},
   "outputs": [
    {
     "data": {
      "text/plain": [
       "-0.21372728581713463"
      ]
     },
     "execution_count": 23,
     "metadata": {},
     "output_type": "execute_result"
    }
   ],
   "source": [
    "male['LeaveOrNot'].mean() - female['LeaveOrNot'].mean()"
   ]
  },
  {
   "cell_type": "code",
   "execution_count": 24,
   "id": "424f94cd",
   "metadata": {},
   "outputs": [
    {
     "data": {
      "text/plain": [
       "array([-0.01720029,  0.00602563, -0.03059986, ...,  0.00691893,\n",
       "        0.00691893,  0.02567833])"
      ]
     },
     "execution_count": 24,
     "metadata": {},
     "output_type": "execute_result"
    }
   ],
   "source": [
    "perm_replicates"
   ]
  },
  {
   "cell_type": "code",
   "execution_count": 25,
   "id": "907c8404",
   "metadata": {},
   "outputs": [
    {
     "data": {
      "text/plain": [
       "2503"
      ]
     },
     "execution_count": 25,
     "metadata": {},
     "output_type": "execute_result"
    }
   ],
   "source": [
    "sum(perm_replicates < -0.01)"
   ]
  },
  {
   "cell_type": "code",
   "execution_count": 26,
   "id": "af9c2dbf",
   "metadata": {},
   "outputs": [
    {
     "data": {
      "text/plain": [
       "2    1087\n",
       "4     931\n",
       "5     919\n",
       "3     786\n",
       "1     558\n",
       "0     355\n",
       "7       9\n",
       "6       8\n",
       "Name: ExperienceInCurrentDomain, dtype: int64"
      ]
     },
     "execution_count": 26,
     "metadata": {},
     "output_type": "execute_result"
    }
   ],
   "source": [
    "#Let's see how experience interacts with quitting:\n",
    "df['ExperienceInCurrentDomain'].value_counts()"
   ]
  },
  {
   "cell_type": "code",
   "execution_count": 27,
   "id": "9d8f6c13",
   "metadata": {},
   "outputs": [
    {
     "data": {
      "text/plain": [
       "<AxesSubplot:xlabel='Education', ylabel='count'>"
      ]
     },
     "execution_count": 27,
     "metadata": {},
     "output_type": "execute_result"
    },
    {
     "data": {
      "image/png": "[encoded data removed]",
      "text/plain": [
       "<Figure size 432x288 with 1 Axes>"
      ]
     },
     "metadata": {
      "needs_background": "light"
     },
     "output_type": "display_data"
    }
   ],
   "source": [
    "sns.countplot(data=df, x='Education', hue='LeaveOrNot')"
   ]
  },
  {
   "cell_type": "code",
   "execution_count": 28,
   "id": "70201662",
   "metadata": {},
   "outputs": [
    {
     "data": {
      "text/plain": [
       "<AxesSubplot:xlabel='Education', ylabel='count'>"
      ]
     },
     "execution_count": 28,
     "metadata": {},
     "output_type": "execute_result"
    },
    {
     "data": {
      "image/png": "[encoded data removed]",
      "text/plain": [
       "<Figure size 432x288 with 1 Axes>"
      ]
     },
     "metadata": {
      "needs_background": "light"
     },
     "output_type": "display_data"
    }
   ],
   "source": [
    "sns.countplot(data=df, x='Education', hue='Gender')"
   ]
  },
  {
   "cell_type": "code",
   "execution_count": 29,
   "id": "00526f36",
   "metadata": {},
   "outputs": [
    {
     "data": {
      "text/plain": [
       "0.18070554355651547"
      ]
     },
     "execution_count": 29,
     "metadata": {},
     "output_type": "execute_result"
    }
   ],
   "source": [
    "sum(male['Education'] == 'Masters') / len(male)"
   ]
  },
  {
   "cell_type": "code",
   "execution_count": 30,
   "id": "8e14c415",
   "metadata": {},
   "outputs": [
    {
     "data": {
      "text/plain": [
       "0.19786666666666666"
      ]
     },
     "execution_count": 30,
     "metadata": {},
     "output_type": "execute_result"
    }
   ],
   "source": [
    "sum(female['Education'] == 'Masters') / len(female)"
   ]
  },
  {
   "cell_type": "code",
   "execution_count": 31,
   "id": "0a6ddd55",
   "metadata": {},
   "outputs": [
    {
     "data": {
      "text/plain": [
       "0.07973350526542015"
      ]
     },
     "execution_count": 31,
     "metadata": {},
     "output_type": "execute_result"
    }
   ],
   "source": [
    "sum(female['Education'] == 'Masters') / len(df)"
   ]
  },
  {
   "cell_type": "code",
   "execution_count": 32,
   "id": "2ea7c80b",
   "metadata": {},
   "outputs": [
    {
     "data": {
      "text/plain": [
       "0.10788738448312916"
      ]
     },
     "execution_count": 32,
     "metadata": {},
     "output_type": "execute_result"
    }
   ],
   "source": [
    "sum(male['Education'] == 'Masters') / len(df)"
   ]
  },
  {
   "cell_type": "code",
   "execution_count": 33,
   "id": "b406aa9f",
   "metadata": {},
   "outputs": [
    {
     "data": {
      "text/plain": [
       "0.18762088974854932"
      ]
     },
     "execution_count": 33,
     "metadata": {},
     "output_type": "execute_result"
    }
   ],
   "source": [
    "sum(df['Education'] == 'Masters') / len(df)"
   ]
  },
  {
   "cell_type": "code",
   "execution_count": 34,
   "id": "3e600250",
   "metadata": {},
   "outputs": [
    {
     "name": "stdout",
     "output_type": "stream",
     "text": [
      "low ratio: 0.356838905775076 mod ratio: 0.3353566009104704 high ratio: 0.29411764705882354\n"
     ]
    }
   ],
   "source": [
    "#That's actually not too bad of a range. I don't think i'll have to bin them, but I will anyway for expedience. \n",
    "df['experiencelevel'] = pd.cut(df['ExperienceInCurrentDomain'], bins=[0, 2, 5, float('Inf')], labels=['low', 'mod', 'high'])\n",
    "lowexp = df[df['experiencelevel'] == 'low']\n",
    "lowquit = lowexp['LeaveOrNot'].sum()\n",
    "modexp = df[df['experiencelevel'] == 'mod']\n",
    "modquit = modexp['LeaveOrNot'].sum()\n",
    "highexp = df[df['experiencelevel'] == 'high']\n",
    "highquit = highexp['LeaveOrNot'].sum()\n",
    "print(\"low ratio: \" + str(lowquit/len(lowexp)) + \" mod ratio: \" + str(modquit/len(modexp)) + \" high ratio: \" + str(highquit/len(highexp)))"
   ]
  },
  {
   "cell_type": "code",
   "execution_count": 35,
   "id": "28916c89",
   "metadata": {},
   "outputs": [
    {
     "data": {
      "text/plain": [
       "17"
      ]
     },
     "execution_count": 35,
     "metadata": {},
     "output_type": "execute_result"
    }
   ],
   "source": [
    "len(df[df['ExperienceInCurrentDomain'] > 5])"
   ]
  },
  {
   "cell_type": "code",
   "execution_count": 36,
   "id": "e9c730b9",
   "metadata": {},
   "outputs": [
    {
     "data": {
      "text/plain": [
       "2    1087\n",
       "4     931\n",
       "5     919\n",
       "3     786\n",
       "1     558\n",
       "0     355\n",
       "7       9\n",
       "6       8\n",
       "Name: ExperienceInCurrentDomain, dtype: int64"
      ]
     },
     "execution_count": 36,
     "metadata": {},
     "output_type": "execute_result"
    }
   ],
   "source": [
    "df['ExperienceInCurrentDomain'].value_counts()"
   ]
  },
  {
   "cell_type": "code",
   "execution_count": 37,
   "id": "48a75dfb",
   "metadata": {},
   "outputs": [
    {
     "data": {
      "text/plain": [
       "3    3492\n",
       "2     918\n",
       "1     243\n",
       "Name: PaymentTier, dtype: int64"
      ]
     },
     "execution_count": 37,
     "metadata": {},
     "output_type": "execute_result"
    }
   ],
   "source": [
    "#It seems like people with the lowest amount of experience quit at the highest rate, but it is pretty evenly distributed \n",
    "#throughout. Taking a look at payment tiers now.\n",
    "df['PaymentTier'].value_counts()"
   ]
  },
  {
   "cell_type": "code",
   "execution_count": 38,
   "id": "b22a0ffb",
   "metadata": {},
   "outputs": [
    {
     "data": {
      "text/plain": [
       "<BarContainer object of 4653 artists>"
      ]
     },
     "execution_count": 38,
     "metadata": {},
     "output_type": "execute_result"
    },
    {
     "data": {
      "image/png": "[encoded data removed]",
      "text/plain": [
       "<Figure size 432x288 with 1 Axes>"
      ]
     },
     "metadata": {
      "needs_background": "light"
     },
     "output_type": "display_data"
    }
   ],
   "source": [
    "#It looks like 3 is the most common tier. I'm going to assume that it's the lowest. Let's take a look at how education\n",
    "#and experience factor into pay. \n",
    "fig, ax = plt.subplots()\n",
    "ax.bar(df.Education,df['PaymentTier'])"
   ]
  },
  {
   "cell_type": "code",
   "execution_count": 39,
   "id": "fb87a7a8",
   "metadata": {},
   "outputs": [
    {
     "data": {
      "text/plain": [
       "3    2885\n",
       "2     543\n",
       "1     173\n",
       "Name: PaymentTier, dtype: int64"
      ]
     },
     "execution_count": 39,
     "metadata": {},
     "output_type": "execute_result"
    }
   ],
   "source": [
    "#That doesn't seem correct. Maybe I've made a mistake. \n",
    "bach = df[df['Education'] == 'Bachelors']\n",
    "bach['PaymentTier'].value_counts()"
   ]
  },
  {
   "cell_type": "code",
   "execution_count": 40,
   "id": "48a1e1be",
   "metadata": {},
   "outputs": [
    {
     "data": {
      "text/plain": [
       "3    462\n",
       "2    355\n",
       "1     56\n",
       "Name: PaymentTier, dtype: int64"
      ]
     },
     "execution_count": 40,
     "metadata": {},
     "output_type": "execute_result"
    }
   ],
   "source": [
    "mas = df[df['Education'] == 'Masters']\n",
    "mas['PaymentTier'].value_counts()"
   ]
  },
  {
   "cell_type": "code",
   "execution_count": 41,
   "id": "6e6050d7",
   "metadata": {},
   "outputs": [
    {
     "data": {
      "image/png": "[encoded data removed]",
      "text/plain": [
       "<Figure size 432x288 with 1 Axes>"
      ]
     },
     "metadata": {
      "needs_background": "light"
     },
     "output_type": "display_data"
    }
   ],
   "source": [
    "nb_sold_by_size = df.groupby('Education')['PaymentTier'].mean()\n",
    "nb_sold_by_size.plot(kind='bar')\n",
    "plt.show()"
   ]
  },
  {
   "cell_type": "code",
   "execution_count": 42,
   "id": "91c90176",
   "metadata": {},
   "outputs": [
    {
     "data": {
      "text/plain": [
       "<seaborn.axisgrid.FacetGrid at 0x237b4366130>"
      ]
     },
     "execution_count": 42,
     "metadata": {},
     "output_type": "execute_result"
    },
    {
     "data": {
      "image/png": "[encoded data removed]",
      "text/plain": [
       "<Figure size 445.25x360 with 1 Axes>"
      ]
     },
     "metadata": {
      "needs_background": "light"
     },
     "output_type": "display_data"
    }
   ],
   "source": [
    "sns.displot(data=df, x=\"PaymentTier\", hue=\"Education\", multiple=\"stack\")"
   ]
  },
  {
   "cell_type": "code",
   "execution_count": 43,
   "id": "07e1f41f",
   "metadata": {},
   "outputs": [
    {
     "data": {
      "image/png": "[encoded data removed]",
      "text/plain": [
       "<Figure size 426.875x360 with 1 Axes>"
      ]
     },
     "metadata": {
      "needs_background": "light"
     },
     "output_type": "display_data"
    }
   ],
   "source": [
    "sns.relplot(x=\"ExperienceInCurrentDomain\", y=\"Age\", \n",
    "            data=df, kind=\"scatter\", hue='LeaveOrNot')\n",
    " \n",
    "# Show plot\n",
    "plt.show()"
   ]
  },
  {
   "cell_type": "code",
   "execution_count": 44,
   "id": "f1223f2e",
   "metadata": {},
   "outputs": [
    {
     "data": {
      "image/png": "[encoded data removed]",
      "text/plain": [
       "<Figure size 432x288 with 1 Axes>"
      ]
     },
     "metadata": {
      "needs_background": "light"
     },
     "output_type": "display_data"
    }
   ],
   "source": [
    "#So it looks like education does not have too much of a role in payment tears as the proportions of each degree seem consistent\n",
    "nb_sold_by_size = df.groupby('experiencelevel')['PaymentTier'].mean()\n",
    "nb_sold_by_size.plot(kind='bar')\n",
    "plt.show()"
   ]
  },
  {
   "cell_type": "code",
   "execution_count": 45,
   "id": "5d05b1f4",
   "metadata": {},
   "outputs": [
    {
     "data": {
      "text/plain": [
       "<seaborn.axisgrid.FacetGrid at 0x237b41efdc0>"
      ]
     },
     "execution_count": 45,
     "metadata": {},
     "output_type": "execute_result"
    },
    {
     "data": {
      "image/png": "[encoded data removed]",
      "text/plain": [
       "<Figure size 426.875x360 with 1 Axes>"
      ]
     },
     "metadata": {
      "needs_background": "light"
     },
     "output_type": "display_data"
    }
   ],
   "source": [
    "sns.displot(data=df, x=\"PaymentTier\", hue=\"LeaveOrNot\", multiple=\"stack\")"
   ]
  },
  {
   "cell_type": "code",
   "execution_count": 46,
   "id": "4334e258",
   "metadata": {},
   "outputs": [
    {
     "data": {
      "text/plain": [
       "<seaborn.axisgrid.FacetGrid at 0x237afaa8460>"
      ]
     },
     "execution_count": 46,
     "metadata": {},
     "output_type": "execute_result"
    },
    {
     "data": {
      "image/png": "[encoded data removed]",
      "text/plain": [
       "<Figure size 426.875x360 with 1 Axes>"
      ]
     },
     "metadata": {
      "needs_background": "light"
     },
     "output_type": "display_data"
    }
   ],
   "source": [
    "sns.displot(data=df, x=\"experiencelevel\", hue=\"LeaveOrNot\", multiple=\"stack\")"
   ]
  },
  {
   "cell_type": "code",
   "execution_count": 47,
   "id": "b8ff138d",
   "metadata": {},
   "outputs": [
    {
     "name": "stdout",
     "output_type": "stream",
     "text": [
      "young ratio: 0.2275 mod ratio: 0.7725 high ratio: 0.0\n"
     ]
    }
   ],
   "source": [
    "#It looks like education level has a slight effect on payment tier but not in a way that I would expect. The same pattern\n",
    "#Is present in experience level but the difference is negligable at best. \n",
    "#What about age? Lets bin it into groups and then see how it changes the target variable\n",
    "df['agelevel'] = pd.cut(df['Age'], bins=[0, 25, 45, float('Inf')], labels=['young', 'mid', 'old'])\n",
    "young = df[df['agelevel'] == 'young']\n",
    "youngquit = young['LeaveOrNot'].sum()\n",
    "mid = df[df['agelevel'] == 'mid']\n",
    "midquit = mid['LeaveOrNot'].sum()\n",
    "old = df[df['agelevel'] == 'old']\n",
    "oldquit = old['LeaveOrNot'].sum()\n",
    "print(\"young ratio: \" + str(youngquit/totalquit) + \" mod ratio: \" + str(midquit/totalquit) + \" high ratio: \" + str(oldquit/totalquit))"
   ]
  },
  {
   "cell_type": "code",
   "execution_count": 48,
   "id": "9574918b",
   "metadata": {},
   "outputs": [
    {
     "data": {
      "text/html": [
       "<div>\n",
       "<style scoped>\n",
       "    .dataframe tbody tr th:only-of-type {\n",
       "        vertical-align: middle;\n",
       "    }\n",
       "\n",
       "    .dataframe tbody tr th {\n",
       "        vertical-align: top;\n",
       "    }\n",
       "\n",
       "    .dataframe thead th {\n",
       "        text-align: right;\n",
       "    }\n",
       "</style>\n",
       "<table border=\"1\" class=\"dataframe\">\n",
       "  <thead>\n",
       "    <tr style=\"text-align: right;\">\n",
       "      <th></th>\n",
       "      <th>Age</th>\n",
       "    </tr>\n",
       "  </thead>\n",
       "  <tbody>\n",
       "    <tr>\n",
       "      <th>22</th>\n",
       "      <td>49</td>\n",
       "    </tr>\n",
       "    <tr>\n",
       "      <th>23</th>\n",
       "      <td>48</td>\n",
       "    </tr>\n",
       "    <tr>\n",
       "      <th>24</th>\n",
       "      <td>385</td>\n",
       "    </tr>\n",
       "    <tr>\n",
       "      <th>25</th>\n",
       "      <td>418</td>\n",
       "    </tr>\n",
       "    <tr>\n",
       "      <th>26</th>\n",
       "      <td>645</td>\n",
       "    </tr>\n",
       "    <tr>\n",
       "      <th>27</th>\n",
       "      <td>625</td>\n",
       "    </tr>\n",
       "    <tr>\n",
       "      <th>28</th>\n",
       "      <td>630</td>\n",
       "    </tr>\n",
       "    <tr>\n",
       "      <th>29</th>\n",
       "      <td>230</td>\n",
       "    </tr>\n",
       "    <tr>\n",
       "      <th>30</th>\n",
       "      <td>220</td>\n",
       "    </tr>\n",
       "    <tr>\n",
       "      <th>31</th>\n",
       "      <td>125</td>\n",
       "    </tr>\n",
       "    <tr>\n",
       "      <th>32</th>\n",
       "      <td>132</td>\n",
       "    </tr>\n",
       "    <tr>\n",
       "      <th>33</th>\n",
       "      <td>124</td>\n",
       "    </tr>\n",
       "    <tr>\n",
       "      <th>34</th>\n",
       "      <td>136</td>\n",
       "    </tr>\n",
       "    <tr>\n",
       "      <th>35</th>\n",
       "      <td>123</td>\n",
       "    </tr>\n",
       "    <tr>\n",
       "      <th>36</th>\n",
       "      <td>139</td>\n",
       "    </tr>\n",
       "    <tr>\n",
       "      <th>37</th>\n",
       "      <td>141</td>\n",
       "    </tr>\n",
       "    <tr>\n",
       "      <th>38</th>\n",
       "      <td>136</td>\n",
       "    </tr>\n",
       "    <tr>\n",
       "      <th>39</th>\n",
       "      <td>131</td>\n",
       "    </tr>\n",
       "    <tr>\n",
       "      <th>40</th>\n",
       "      <td>134</td>\n",
       "    </tr>\n",
       "    <tr>\n",
       "      <th>41</th>\n",
       "      <td>82</td>\n",
       "    </tr>\n",
       "  </tbody>\n",
       "</table>\n",
       "</div>"
      ],
      "text/plain": [
       "    Age\n",
       "22   49\n",
       "23   48\n",
       "24  385\n",
       "25  418\n",
       "26  645\n",
       "27  625\n",
       "28  630\n",
       "29  230\n",
       "30  220\n",
       "31  125\n",
       "32  132\n",
       "33  124\n",
       "34  136\n",
       "35  123\n",
       "36  139\n",
       "37  141\n",
       "38  136\n",
       "39  131\n",
       "40  134\n",
       "41   82"
      ]
     },
     "execution_count": 48,
     "metadata": {},
     "output_type": "execute_result"
    }
   ],
   "source": [
    "#This doesn't seem entirely correct. Do I really have no older people quitting? Let's examine the values. \n",
    "agevals = pd.DataFrame(df['Age'].value_counts())\n",
    "agevals.sort_index()"
   ]
  },
  {
   "cell_type": "code",
   "execution_count": 49,
   "id": "45c7fbec",
   "metadata": {},
   "outputs": [
    {
     "name": "stdout",
     "output_type": "stream",
     "text": [
      "young ratio: 0.35678571428571426 mod ratio: 0.3394495412844037 high ratio: 0.30275229357798167\n"
     ]
    }
   ],
   "source": [
    "#Oh. That explains it. Not a wide agerange of workers here. Let's change those bins up. \n",
    "#It looks like education level has a slight effect on payment tier but not in a way that I would expect. The same pattern\n",
    "#Is present in experience level but the difference is negligable at best. \n",
    "#What about age? Lets bin it into groups and then see how it changes the target variable\n",
    "df['agelevel'] = pd.cut(df['Age'], bins=[0, 28, 35, float('Inf')], labels=['young', 'mid', 'old'])\n",
    "young = df[df['agelevel'] == 'young']\n",
    "youngquit = young['LeaveOrNot'].sum()\n",
    "mid = df[df['agelevel'] == 'mid']\n",
    "midquit = mid['LeaveOrNot'].sum()\n",
    "old = df[df['agelevel'] == 'old']\n",
    "oldquit = old['LeaveOrNot'].sum()\n",
    "print(\"young ratio: \" + str(youngquit/len(young)) + \" mod ratio: \" + str(midquit/len(mid)) + \" high ratio: \" + str(oldquit/len(old)))"
   ]
  },
  {
   "cell_type": "code",
   "execution_count": 50,
   "id": "959f05d6",
   "metadata": {},
   "outputs": [
    {
     "name": "stdout",
     "output_type": "stream",
     "text": [
      "low ratio: 0.27520045819014893 mod ratio: 0.599128540305011 high ratio: 0.0014318442153493699\n"
     ]
    }
   ],
   "source": [
    "#Checking payment tiers\n",
    "lowpay = df[df['PaymentTier'] == 3]\n",
    "lowpayquit = lowpay['LeaveOrNot'].sum()\n",
    "modpay = df[df['PaymentTier'] == 2]\n",
    "modpayquit = modpay['LeaveOrNot'].sum()\n",
    "highpay = df[df['PaymentTier'] == 3]\n",
    "highpayquit = highexp['LeaveOrNot'].sum()\n",
    "print(\"low ratio: \" + str(lowpayquit/len(lowpay)) + \" mod ratio: \" + str(modpayquit/len(modpay)) + \" high ratio: \" + str(highpayquit/len(highpay)))"
   ]
  },
  {
   "cell_type": "code",
   "execution_count": 51,
   "id": "2f3cd6bd",
   "metadata": {},
   "outputs": [
    {
     "data": {
      "image/png": "[encoded data removed]",
      "text/plain": [
       "<Figure size 432x288 with 2 Axes>"
      ]
     },
     "metadata": {
      "needs_background": "light"
     },
     "output_type": "display_data"
    }
   ],
   "source": [
    "#It looks like people in the middle payment tier quit at a much higher rate than the other two with the highest not quitting. \n",
    "#Alright and finally let's make a heatmap to see how these features all correlate to the target\n",
    "plt.figure()\n",
    "sns.heatmap(df.corr(), annot=True)\n",
    "plt.show()"
   ]
  },
  {
   "cell_type": "code",
   "execution_count": 52,
   "id": "cb609c8c",
   "metadata": {},
   "outputs": [],
   "source": [
    "#Some very weak correlations here. \n"
   ]
  },
  {
   "cell_type": "code",
   "execution_count": 53,
   "id": "402dd71f",
   "metadata": {},
   "outputs": [],
   "source": [
    "#pip install pyshp\n",
    "import shapefile as shp"
   ]
  },
  {
   "cell_type": "code",
   "execution_count": 54,
   "id": "f9d6565b",
   "metadata": {},
   "outputs": [],
   "source": [
    "sns.set(style='whitegrid', palette='pastel', color_codes=True)\n",
    "sns.mpl.rc('figure', figsize=(10,6))"
   ]
  },
  {
   "cell_type": "code",
   "execution_count": 55,
   "id": "df5cd1a3",
   "metadata": {},
   "outputs": [
    {
     "name": "stdout",
     "output_type": "stream",
     "text": [
      " Volume in drive C has no label.\n",
      " Volume Serial Number is 9806-1F72\n",
      "\n",
      " Directory of C:\\Users\\Armstrongs\\Desktop\\GitHub\\employees_india\n",
      "\n",
      "11/26/2021  04:27 PM    <DIR>          .\n",
      "11/26/2021  04:27 PM    <DIR>          ..\n",
      "11/26/2021  02:32 PM    <DIR>          .ipynb_checkpoints\n",
      "11/23/2021  02:50 PM           195,247 Employee.csv\n",
      "11/26/2021  04:27 PM           277,933 Employees EDA.ipynb\n",
      "11/23/2021  10:13 PM                 5 IND_adm1.cpg\n",
      "11/23/2021  10:13 PM             3,539 IND_adm1.csv\n",
      "11/23/2021  10:13 PM            28,279 IND_adm1.dbf\n",
      "11/23/2021  10:13 PM               145 IND_adm1.prj\n",
      "11/23/2021  10:13 PM            23,375 IND_adm1.shp.xml\n",
      "11/23/2021  10:13 PM               396 IND_adm1.shx\n",
      "11/23/2021  10:13 PM         8,450,224 IND_adm11.shp\n",
      "11/23/2021  10:13 PM             5,870 IND_adm1-fgdc.xml\n",
      "11/23/2021  10:13 PM            11,935 IND_adm1-iso19110.xml\n",
      "11/23/2021  10:13 PM            21,893 IND_adm1-iso19139.xml\n",
      "11/26/2021  02:36 PM               128 sns_test.csv\n",
      "11/26/2021  02:40 PM            14,432 Untitled.ipynb\n",
      "              14 File(s)      9,033,401 bytes\n",
      "               3 Dir(s)  102,666,702,848 bytes free\n"
     ]
    }
   ],
   "source": [
    "ls"
   ]
  },
  {
   "cell_type": "code",
   "execution_count": 56,
   "id": "fc78ae9d",
   "metadata": {},
   "outputs": [],
   "source": [
    "#opening the vector map\n",
    "shp_path = 'IND_adm11.shp'\n",
    "#reading the shape file by using reader function of the shape lib\n",
    "sf = shp.Reader(shp_path)"
   ]
  },
  {
   "cell_type": "code",
   "execution_count": 57,
   "id": "7bde67eb",
   "metadata": {},
   "outputs": [
    {
     "data": {
      "text/plain": [
       "37"
      ]
     },
     "execution_count": 57,
     "metadata": {},
     "output_type": "execute_result"
    }
   ],
   "source": [
    "len(sf.shapes())"
   ]
  },
  {
   "cell_type": "code",
   "execution_count": 58,
   "id": "90adb25c",
   "metadata": {},
   "outputs": [],
   "source": [
    "def read_shapefile(sf):\n",
    "    #fetching the headings from the shape file\n",
    "    fields = [x[0] for x in sf.fields][1:]\n",
    "#fetching the records from the shape file\n",
    "    records = [list(i) for i in sf.records()]\n",
    "    shps = [s.points for s in sf.shapes()]\n",
    "#converting shapefile data into pandas dataframe\n",
    "    dfs = pd.DataFrame(columns=fields, data=records)\n",
    "#assigning the coordinates\n",
    "    dfs = df.assign(coords=shps)\n",
    "    return dfs"
   ]
  },
  {
   "cell_type": "code",
   "execution_count": 59,
   "id": "e460969b",
   "metadata": {},
   "outputs": [
    {
     "ename": "ShapefileException",
     "evalue": "Shapefile Reader requires a shapefile or file-like object. (no dbf file found)",
     "output_type": "error",
     "traceback": [
      "\u001b[1;31m---------------------------------------------------------------------------\u001b[0m",
      "\u001b[1;31mShapefileException\u001b[0m                        Traceback (most recent call last)",
      "\u001b[1;32mC:\\Users\\ARMSTR~1\\AppData\\Local\\Temp/ipykernel_5940/3511989547.py\u001b[0m in \u001b[0;36m<module>\u001b[1;34m\u001b[0m\n\u001b[1;32m----> 1\u001b[1;33m \u001b[0mdf\u001b[0m \u001b[1;33m=\u001b[0m \u001b[0mread_shapefile\u001b[0m\u001b[1;33m(\u001b[0m\u001b[0msf\u001b[0m\u001b[1;33m)\u001b[0m\u001b[1;33m\u001b[0m\u001b[1;33m\u001b[0m\u001b[0m\n\u001b[0m\u001b[0;32m      2\u001b[0m \u001b[0mdf\u001b[0m\u001b[1;33m.\u001b[0m\u001b[0mshape\u001b[0m\u001b[1;33m\u001b[0m\u001b[1;33m\u001b[0m\u001b[0m\n",
      "\u001b[1;32mC:\\Users\\ARMSTR~1\\AppData\\Local\\Temp/ipykernel_5940/558516798.py\u001b[0m in \u001b[0;36mread_shapefile\u001b[1;34m(sf)\u001b[0m\n\u001b[0;32m      3\u001b[0m     \u001b[0mfields\u001b[0m \u001b[1;33m=\u001b[0m \u001b[1;33m[\u001b[0m\u001b[0mx\u001b[0m\u001b[1;33m[\u001b[0m\u001b[1;36m0\u001b[0m\u001b[1;33m]\u001b[0m \u001b[1;32mfor\u001b[0m \u001b[0mx\u001b[0m \u001b[1;32min\u001b[0m \u001b[0msf\u001b[0m\u001b[1;33m.\u001b[0m\u001b[0mfields\u001b[0m\u001b[1;33m]\u001b[0m\u001b[1;33m[\u001b[0m\u001b[1;36m1\u001b[0m\u001b[1;33m:\u001b[0m\u001b[1;33m]\u001b[0m\u001b[1;33m\u001b[0m\u001b[1;33m\u001b[0m\u001b[0m\n\u001b[0;32m      4\u001b[0m \u001b[1;31m#fetching the records from the shape file\u001b[0m\u001b[1;33m\u001b[0m\u001b[1;33m\u001b[0m\u001b[1;33m\u001b[0m\u001b[0m\n\u001b[1;32m----> 5\u001b[1;33m     \u001b[0mrecords\u001b[0m \u001b[1;33m=\u001b[0m \u001b[1;33m[\u001b[0m\u001b[0mlist\u001b[0m\u001b[1;33m(\u001b[0m\u001b[0mi\u001b[0m\u001b[1;33m)\u001b[0m \u001b[1;32mfor\u001b[0m \u001b[0mi\u001b[0m \u001b[1;32min\u001b[0m \u001b[0msf\u001b[0m\u001b[1;33m.\u001b[0m\u001b[0mrecords\u001b[0m\u001b[1;33m(\u001b[0m\u001b[1;33m)\u001b[0m\u001b[1;33m]\u001b[0m\u001b[1;33m\u001b[0m\u001b[1;33m\u001b[0m\u001b[0m\n\u001b[0m\u001b[0;32m      6\u001b[0m     \u001b[0mshps\u001b[0m \u001b[1;33m=\u001b[0m \u001b[1;33m[\u001b[0m\u001b[0ms\u001b[0m\u001b[1;33m.\u001b[0m\u001b[0mpoints\u001b[0m \u001b[1;32mfor\u001b[0m \u001b[0ms\u001b[0m \u001b[1;32min\u001b[0m \u001b[0msf\u001b[0m\u001b[1;33m.\u001b[0m\u001b[0mshapes\u001b[0m\u001b[1;33m(\u001b[0m\u001b[1;33m)\u001b[0m\u001b[1;33m]\u001b[0m\u001b[1;33m\u001b[0m\u001b[1;33m\u001b[0m\u001b[0m\n\u001b[0;32m      7\u001b[0m \u001b[1;31m#converting shapefile data into pandas dataframe\u001b[0m\u001b[1;33m\u001b[0m\u001b[1;33m\u001b[0m\u001b[1;33m\u001b[0m\u001b[0m\n",
      "\u001b[1;32m~\\anaconda3\\envs\\Test\\lib\\site-packages\\shapefile.py\u001b[0m in \u001b[0;36mrecords\u001b[1;34m(self)\u001b[0m\n\u001b[0;32m   1299\u001b[0m         \u001b[1;34m\"\"\"Returns all records in a dbf file.\"\"\"\u001b[0m\u001b[1;33m\u001b[0m\u001b[1;33m\u001b[0m\u001b[0m\n\u001b[0;32m   1300\u001b[0m         \u001b[1;32mif\u001b[0m \u001b[0mself\u001b[0m\u001b[1;33m.\u001b[0m\u001b[0mnumRecords\u001b[0m \u001b[1;32mis\u001b[0m \u001b[1;32mNone\u001b[0m\u001b[1;33m:\u001b[0m\u001b[1;33m\u001b[0m\u001b[1;33m\u001b[0m\u001b[0m\n\u001b[1;32m-> 1301\u001b[1;33m             \u001b[0mself\u001b[0m\u001b[1;33m.\u001b[0m\u001b[0m__dbfHeader\u001b[0m\u001b[1;33m(\u001b[0m\u001b[1;33m)\u001b[0m\u001b[1;33m\u001b[0m\u001b[1;33m\u001b[0m\u001b[0m\n\u001b[0m\u001b[0;32m   1302\u001b[0m         \u001b[0mrecords\u001b[0m \u001b[1;33m=\u001b[0m \u001b[1;33m[\u001b[0m\u001b[1;33m]\u001b[0m\u001b[1;33m\u001b[0m\u001b[1;33m\u001b[0m\u001b[0m\n\u001b[0;32m   1303\u001b[0m         \u001b[0mf\u001b[0m \u001b[1;33m=\u001b[0m \u001b[0mself\u001b[0m\u001b[1;33m.\u001b[0m\u001b[0m__getFileObj\u001b[0m\u001b[1;33m(\u001b[0m\u001b[0mself\u001b[0m\u001b[1;33m.\u001b[0m\u001b[0mdbf\u001b[0m\u001b[1;33m)\u001b[0m\u001b[1;33m\u001b[0m\u001b[1;33m\u001b[0m\u001b[0m\n",
      "\u001b[1;32m~\\anaconda3\\envs\\Test\\lib\\site-packages\\shapefile.py\u001b[0m in \u001b[0;36m__dbfHeader\u001b[1;34m(self)\u001b[0m\n\u001b[0;32m   1172\u001b[0m         \u001b[1;34m\"\"\"Reads a dbf header. Xbase-related code borrows heavily from ActiveState Python Cookbook Recipe 362715 by Raymond Hettinger\"\"\"\u001b[0m\u001b[1;33m\u001b[0m\u001b[1;33m\u001b[0m\u001b[0m\n\u001b[0;32m   1173\u001b[0m         \u001b[1;32mif\u001b[0m \u001b[1;32mnot\u001b[0m \u001b[0mself\u001b[0m\u001b[1;33m.\u001b[0m\u001b[0mdbf\u001b[0m\u001b[1;33m:\u001b[0m\u001b[1;33m\u001b[0m\u001b[1;33m\u001b[0m\u001b[0m\n\u001b[1;32m-> 1174\u001b[1;33m             \u001b[1;32mraise\u001b[0m \u001b[0mShapefileException\u001b[0m\u001b[1;33m(\u001b[0m\u001b[1;34m\"Shapefile Reader requires a shapefile or file-like object. (no dbf file found)\"\u001b[0m\u001b[1;33m)\u001b[0m\u001b[1;33m\u001b[0m\u001b[1;33m\u001b[0m\u001b[0m\n\u001b[0m\u001b[0;32m   1175\u001b[0m         \u001b[0mdbf\u001b[0m \u001b[1;33m=\u001b[0m \u001b[0mself\u001b[0m\u001b[1;33m.\u001b[0m\u001b[0mdbf\u001b[0m\u001b[1;33m\u001b[0m\u001b[1;33m\u001b[0m\u001b[0m\n\u001b[0;32m   1176\u001b[0m         \u001b[1;31m# read relevant header parts\u001b[0m\u001b[1;33m\u001b[0m\u001b[1;33m\u001b[0m\u001b[1;33m\u001b[0m\u001b[0m\n",
      "\u001b[1;31mShapefileException\u001b[0m: Shapefile Reader requires a shapefile or file-like object. (no dbf file found)"
     ]
    }
   ],
   "source": [
    "df = read_shapefile(sf)\n",
    "df.shape"
   ]
  },
  {
   "cell_type": "code",
   "execution_count": null,
   "id": "da528ffe",
   "metadata": {},
   "outputs": [],
   "source": [
    "#I wanted to map out where people were quiting but it's not working as I'd hoped. "
   ]
  },
  {
   "cell_type": "code",
   "execution_count": null,
   "id": "e4db22b1",
   "metadata": {},
   "outputs": [],
   "source": [
    "#I want to know whether women really are more likely to quit or if it's really due to location\n",
    "df['City'].value_counts()"
   ]
  },
  {
   "cell_type": "code",
   "execution_count": null,
   "id": "15e2ffe9",
   "metadata": {},
   "outputs": [],
   "source": [
    "b = df[df['City'] == 'Bangalore']\n",
    "len(b[b['Gender'] == 'Male'])"
   ]
  },
  {
   "cell_type": "code",
   "execution_count": null,
   "id": "e3d56c9e",
   "metadata": {},
   "outputs": [],
   "source": [
    "len(b[b['Gender'] == 'Female'])"
   ]
  },
  {
   "cell_type": "code",
   "execution_count": null,
   "id": "a5b86b44",
   "metadata": {},
   "outputs": [],
   "source": [
    "B = df[df[\"City\"] == \"Bangalore\"][\"LeaveOrNot\"].sum()\n",
    "P = df[df[\"City\"] == \"Pune\"][\"LeaveOrNot\"].sum()\n",
    "D = df[df[\"City\"] == \"New Delhi\"][\"LeaveOrNot\"].sum()"
   ]
  },
  {
   "cell_type": "code",
   "execution_count": null,
   "id": "acf2d037",
   "metadata": {},
   "outputs": [],
   "source": [
    "FB = female[female[\"City\"] == \"Bangalore\"][\"LeaveOrNot\"].sum()\n",
    "FP = female[female[\"City\"] == \"Pune\"][\"LeaveOrNot\"].sum()\n",
    "FD = female[female[\"City\"] == \"New Delhi\"][\"LeaveOrNot\"].sum()"
   ]
  },
  {
   "cell_type": "code",
   "execution_count": null,
   "id": "ab5eff68",
   "metadata": {},
   "outputs": [],
   "source": [
    "MB = male[male[\"City\"] == \"Bangalore\"][\"LeaveOrNot\"].sum()\n",
    "MP = male[male[\"City\"] == \"Pune\"][\"LeaveOrNot\"].sum()\n",
    "MD = male[male[\"City\"] == \"New Delhi\"][\"LeaveOrNot\"].sum()"
   ]
  },
  {
   "cell_type": "code",
   "execution_count": null,
   "id": "80bc9cec",
   "metadata": {},
   "outputs": [],
   "source": [
    "print('B: ' + str(FB / len(female['City'] == 'Bangalore')))"
   ]
  },
  {
   "cell_type": "code",
   "execution_count": null,
   "id": "87880824",
   "metadata": {},
   "outputs": [],
   "source": [
    "print('P: ' + str(FP / len(female['City'] == 'Pune')))"
   ]
  },
  {
   "cell_type": "code",
   "execution_count": null,
   "id": "b90c3c5b",
   "metadata": {},
   "outputs": [],
   "source": [
    "print('D: ' + str(FD / len(female['City'] == 'New Delhi')))"
   ]
  },
  {
   "cell_type": "code",
   "execution_count": null,
   "id": "3eca21b0",
   "metadata": {},
   "outputs": [],
   "source": [
    "city_order = ['Bangalore', 'Pune', 'New Delhi']"
   ]
  },
  {
   "cell_type": "code",
   "execution_count": null,
   "id": "1f66b8b9",
   "metadata": {},
   "outputs": [],
   "source": [
    "sns.countplot(data=female, x='City', hue='LeaveOrNot', order = city_order)"
   ]
  },
  {
   "cell_type": "code",
   "execution_count": null,
   "id": "c71b661e",
   "metadata": {},
   "outputs": [],
   "source": [
    "sns.countplot(data=male, x='City', hue='LeaveOrNot')"
   ]
  },
  {
   "cell_type": "code",
   "execution_count": null,
   "id": "b7c7650c",
   "metadata": {},
   "outputs": [],
   "source": [
    "sns.countplot(data=df, x='City', hue='LeaveOrNot')"
   ]
  },
  {
   "cell_type": "code",
   "execution_count": 60,
   "id": "cb753e63",
   "metadata": {},
   "outputs": [
    {
     "data": {
      "text/plain": [
       "(array([ 39., 327., 497., 367., 127.,  95., 106., 120., 114.,  83.]),\n",
       " array([22. , 23.9, 25.8, 27.7, 29.6, 31.5, 33.4, 35.3, 37.2, 39.1, 41. ]),\n",
       " <BarContainer object of 10 artists>)"
      ]
     },
     "execution_count": 60,
     "metadata": {},
     "output_type": "execute_result"
    },
    {
     "data": {
      "image/png": "[encoded data removed]",
      "text/plain": [
       "<Figure size 720x432 with 1 Axes>"
      ]
     },
     "metadata": {},
     "output_type": "display_data"
    }
   ],
   "source": [
    "plt.hist(female['Age'])"
   ]
  },
  {
   "cell_type": "code",
   "execution_count": 62,
   "id": "0db7b48f",
   "metadata": {},
   "outputs": [
    {
     "data": {
      "text/plain": [
       "<AxesSubplot:xlabel='Age', ylabel='count'>"
      ]
     },
     "execution_count": 62,
     "metadata": {},
     "output_type": "execute_result"
    },
    {
     "data": {
      "image/png": "[encoded data removed]",
      "text/plain": [
       "<Figure size 720x432 with 1 Axes>"
      ]
     },
     "metadata": {},
     "output_type": "display_data"
    }
   ],
   "source": [
    "sns.countplot(data=df, x='Age', hue='LeaveOrNot')"
   ]
  },
  {
   "cell_type": "code",
   "execution_count": 63,
   "id": "ac3ee6ab",
   "metadata": {},
   "outputs": [
    {
     "data": {
      "text/plain": [
       "(array([ 58., 476., 773., 493., 218., 161., 153., 160., 153., 133.]),\n",
       " array([22. , 23.9, 25.8, 27.7, 29.6, 31.5, 33.4, 35.3, 37.2, 39.1, 41. ]),\n",
       " <BarContainer object of 10 artists>)"
      ]
     },
     "execution_count": 63,
     "metadata": {},
     "output_type": "execute_result"
    },
    {
     "data": {
      "image/png": "[encoded data removed]",
      "text/plain": [
       "<Figure size 720x432 with 1 Axes>"
      ]
     },
     "metadata": {},
     "output_type": "display_data"
    }
   ],
   "source": [
    "plt.hist(male['Age'])"
   ]
  },
  {
   "cell_type": "code",
   "execution_count": 69,
   "id": "8ed3d324",
   "metadata": {},
   "outputs": [
    {
     "data": {
      "text/plain": [
       "LeaveOrNot    0.343864\n",
       "dtype: float64"
      ]
     },
     "execution_count": 69,
     "metadata": {},
     "output_type": "execute_result"
    }
   ],
   "source": [
    "df[['LeaveOrNot']].sum() / len(df)"
   ]
  },
  {
   "cell_type": "code",
   "execution_count": 70,
   "id": "b24a8c3e",
   "metadata": {},
   "outputs": [
    {
     "data": {
      "text/plain": [
       "29.377969762419006"
      ]
     },
     "execution_count": 70,
     "metadata": {},
     "output_type": "execute_result"
    }
   ],
   "source": [
    "male['Age'].mean()"
   ]
  },
  {
   "cell_type": "code",
   "execution_count": 71,
   "id": "2f57b9e1",
   "metadata": {},
   "outputs": [
    {
     "data": {
      "text/plain": [
       "29.416"
      ]
     },
     "execution_count": 71,
     "metadata": {},
     "output_type": "execute_result"
    }
   ],
   "source": [
    "female['Age'].mean()"
   ]
  },
  {
   "cell_type": "code",
   "execution_count": null,
   "id": "2c7b74b7",
   "metadata": {},
   "outputs": [],
   "source": []
  }
 ],
 "metadata": {
  "kernelspec": {
   "display_name": "Python 3 (ipykernel)",
   "language": "python",
   "name": "python3"
  },
  "language_info": {
   "codemirror_mode": {
    "name": "ipython",
    "version": 3
   },
   "file_extension": ".py",
   "mimetype": "text/x-python",
   "name": "python",
   "nbconvert_exporter": "python",
   "pygments_lexer": "ipython3",
   "version": "3.8.12"
  }
 },
 "nbformat": 4,
 "nbformat_minor": 5
}
